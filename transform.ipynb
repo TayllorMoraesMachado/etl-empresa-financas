{
 "cells": [
  {
   "cell_type": "code",
   "execution_count": 1,
   "metadata": {},
   "outputs": [],
   "source": [
    "from utils import read_file, upload_to_s3\n",
    "from validacao import Validator \n",
    "from datetime import datetime\n",
    "import pandas as pd"
   ]
  },
  {
   "cell_type": "code",
   "execution_count": 2,
   "metadata": {},
   "outputs": [],
   "source": [
    "name_arquivo = 'ofertas'\n",
    "data_atual = datetime.now().strftime(\"%Y-%m-%d\")\n",
    "extensao = 'csv'\n",
    "\n",
    "nome_final = f'{name_arquivo}_{data_atual}.{extensao}'"
   ]
  },
  {
   "cell_type": "code",
   "execution_count": 3,
   "metadata": {},
   "outputs": [],
   "source": [
    "bucket_name = 'data-lake-02'\n",
    "camada = 'bronze'"
   ]
  },
  {
   "cell_type": "code",
   "execution_count": 4,
   "metadata": {},
   "outputs": [
    {
     "name": "stdout",
     "output_type": "stream",
     "text": [
      "✅ Arquivo 'ofertas_2025-02-14.csv' lido com sucesso!\n"
     ]
    }
   ],
   "source": [
    "df = read_file(bucket_name, nome_final, camada)"
   ]
  },
  {
   "cell_type": "code",
   "execution_count": 5,
   "metadata": {},
   "outputs": [
    {
     "data": {
      "text/html": [
       "<div>\n",
       "<style scoped>\n",
       "    .dataframe tbody tr th:only-of-type {\n",
       "        vertical-align: middle;\n",
       "    }\n",
       "\n",
       "    .dataframe tbody tr th {\n",
       "        vertical-align: top;\n",
       "    }\n",
       "\n",
       "    .dataframe thead th {\n",
       "        text-align: right;\n",
       "    }\n",
       "</style>\n",
       "<table border=\"1\" class=\"dataframe\">\n",
       "  <thead>\n",
       "    <tr style=\"text-align: right;\">\n",
       "      <th></th>\n",
       "      <th>Date</th>\n",
       "      <th>Open</th>\n",
       "      <th>High</th>\n",
       "      <th>Low</th>\n",
       "      <th>Close</th>\n",
       "      <th>Volume</th>\n",
       "      <th>Dividends</th>\n",
       "      <th>Stock Splits</th>\n",
       "      <th>Ticker</th>\n",
       "    </tr>\n",
       "  </thead>\n",
       "  <tbody>\n",
       "    <tr>\n",
       "      <th>0</th>\n",
       "      <td>2025-02-14 00:00:00-05:00</td>\n",
       "      <td>241.070007</td>\n",
       "      <td>245.050003</td>\n",
       "      <td>241.000000</td>\n",
       "      <td>244.339996</td>\n",
       "      <td>10832000</td>\n",
       "      <td>0.0</td>\n",
       "      <td>0.0</td>\n",
       "      <td>AAPL</td>\n",
       "    </tr>\n",
       "    <tr>\n",
       "      <th>1</th>\n",
       "      <td>2025-02-14 00:00:00-05:00</td>\n",
       "      <td>407.649994</td>\n",
       "      <td>408.709991</td>\n",
       "      <td>406.170013</td>\n",
       "      <td>406.579987</td>\n",
       "      <td>5747192</td>\n",
       "      <td>0.0</td>\n",
       "      <td>0.0</td>\n",
       "      <td>MSFT</td>\n",
       "    </tr>\n",
       "  </tbody>\n",
       "</table>\n",
       "</div>"
      ],
      "text/plain": [
       "                        Date        Open        High         Low       Close  \\\n",
       "0  2025-02-14 00:00:00-05:00  241.070007  245.050003  241.000000  244.339996   \n",
       "1  2025-02-14 00:00:00-05:00  407.649994  408.709991  406.170013  406.579987   \n",
       "\n",
       "     Volume  Dividends  Stock Splits Ticker  \n",
       "0  10832000        0.0           0.0   AAPL  \n",
       "1   5747192        0.0           0.0   MSFT  "
      ]
     },
     "execution_count": 5,
     "metadata": {},
     "output_type": "execute_result"
    }
   ],
   "source": [
    "df.head(2\n",
    ")"
   ]
  },
  {
   "cell_type": "code",
   "execution_count": 6,
   "metadata": {},
   "outputs": [],
   "source": [
    "validator = Validator(df)"
   ]
  },
  {
   "cell_type": "code",
   "execution_count": 7,
   "metadata": {},
   "outputs": [
    {
     "name": "stdout",
     "output_type": "stream",
     "text": [
      "O DataFrame está válido!\n"
     ]
    }
   ],
   "source": [
    "if validator.has_data() and validator.has_columns([\"Date\", \"Open\", \"High\", \"Low\", \"Close\", \"Volume\", \"Dividends\", \"Stock Splits\", \"Ticker\"]) and validator.check_null_or_empty([\"Date\"]):\n",
    "    df_tratado = df.rename(columns={\n",
    "        \"Date\": \"dt_referencia\",\n",
    "        \"Open\": \"vl_abertura\",\n",
    "        \"High\": \"vl_max\",\n",
    "        \"Low\": \"vl_min\",\n",
    "        \"Close\": \"vl_close\",\n",
    "        \"Volume\": \"vl_volume\",\n",
    "        \"Dividends\": \"vl_dividends\",\n",
    "        \"Stock Splits\": \"vl_stock\",\n",
    "        \"Ticker\": \"nm_ativo\"\n",
    "    }) \n",
    "\n",
    "    df_tratado[\"dt_referencia\"] = pd.to_datetime(df_tratado[\"dt_referencia\"]).dt.date\n",
    "    df_tratado = df_tratado.astype({col: float for col in df_tratado.columns if col.startswith(\"vl_\")}) \n",
    "    df_tratado = df_tratado.round({col: 2 for col in df_tratado.columns if col.startswith(\"vl_\")})\n",
    "\n",
    "    df_final = df_tratado\n",
    "\n",
    "    print(\"O DataFrame está válido!\") \n",
    "else:\n",
    "    pass  \n",
    "\n"
   ]
  },
  {
   "cell_type": "code",
   "execution_count": 8,
   "metadata": {},
   "outputs": [
    {
     "name": "stdout",
     "output_type": "stream",
     "text": [
      "Arquivo .parquet criado com sucesso!\n",
      "✅ Upload bem-sucedido: dados_tratados/ofertas_2025-02-14.parquet → s3://data-lake-02/silver/2025-02-14/ofertas_2025-02-14.parquet\n"
     ]
    }
   ],
   "source": [
    "validator_final = Validator(df_final)\n",
    "if validator.has_data():\n",
    "    df.to_parquet(f'dados_tratados/{name_arquivo}_{data_atual}.parquet')\n",
    "    print(\"Arquivo .parquet criado com sucesso!\")\n",
    "\n",
    "    upload_to_s3(f\"dados_tratados/{name_arquivo}_{data_atual}.parquet\", \"data-lake-02\", \"silver\")\n",
    "else:\n",
    "   pass"
   ]
  }
 ],
 "metadata": {
  "kernelspec": {
   "display_name": "Python 3",
   "language": "python",
   "name": "python3"
  },
  "language_info": {
   "codemirror_mode": {
    "name": "ipython",
    "version": 3
   },
   "file_extension": ".py",
   "mimetype": "text/x-python",
   "name": "python",
   "nbconvert_exporter": "python",
   "pygments_lexer": "ipython3",
   "version": "3.12.4"
  }
 },
 "nbformat": 4,
 "nbformat_minor": 2
}
